{
 "cells": [
  {
   "cell_type": "code",
   "execution_count": 14,
   "metadata": {},
   "outputs": [
    {
     "data": {
      "text/plain": [
       "(2560, 1600, 1.6)"
      ]
     },
     "execution_count": 14,
     "metadata": {},
     "output_type": "execute_result"
    }
   ],
   "source": [
    "def pick_resolution(resolutions, target_resolution):\n",
    "    my_aspect_ratio = target_resolution[0] / target_resolution[1]\n",
    "    \n",
    "    aspect_ratios = [(x,y,x/y) for x,y in resolutions]\n",
    "    aspect_ratios = list(sorted(aspect_ratios, key=lambda x:x[0] * x[1]))\n",
    "\n",
    "    unique_aspect_ratios = list(sorted({x[2] for x in aspect_ratios}))\n",
    "    best_aspect_ratios = [x for x in unique_aspect_ratios if x > my_aspect_ratio]\n",
    "    if len(best_aspect_ratios) > 0:\n",
    "        aspect_ratios = [x for x in aspect_ratios if x[2] == best_aspect_ratios[0]]\n",
    "    else:\n",
    "        best_aspect_ratio = max(unique_aspect_ratios)\n",
    "        aspect_ratios = [x for x in aspect_ratios if x[2] == best_aspect_ratio]\n",
    "    \n",
    "    best_sizes = [(x,y) for x,y,_ in aspect_ratios if x >= target_resolution[0] and y >= target_resolution[1]]\n",
    "    if len(best_sizes) > 0:\n",
    "        return best_sizes[0]\n",
    "    else:\n",
    "        aspect_ratios = list(sorted(aspect_ratios, key=lambda x: x[0] * x[1]))\n",
    "        return aspect_ratios[-1]\n",
    "\n",
    "test_set = [(6400, 4000), (5120, 3200), (3840, 2400), (3840, 2160), (3200, 1800), (2880, 1620)]\n",
    "test_set = [(2048, 2048), (1024, 1024), (2208, 2208), (1242, 2208), (750, 1334), (640, 1136), (640, 960), (320, 480), (360, 480), (320, 240), (1600, 1200), (1400, 1050), (1280, 960), (1024, 768), (1280, 1024), (2160, 1920), (1920, 1408), (1440, 1280), (1080, 960), (960, 854), (960, 800), (640, 480), (600, 1024), (1024, 600), (800, 480), (960, 1704), (960, 544), (480, 272), (320, 400), (1600, 2560), (1200, 1920), (1080, 1920), (3840, 2400), (3360, 2100), (2880, 1800), (2560, 1600), (2304, 1440), (2048, 1280), (1920, 1200), (1680, 1050), (1440, 900), (1280, 800), (1152, 720), (1024, 640), (3840, 2160), (3200, 1800), (2880, 1620), (2560, 1440), (1920, 1080), (1600, 900), (1366, 768), (1280, 720), (768, 1280), (720, 1280), (480, 800)]\n",
    "test_set = [(1024, 1024), (640, 960), (320, 480), (360, 480), (320, 240), (2560, 1024), (1600, 1200), (1400, 1050), (1280, 960), (1024, 768), (1280, 1024), (960, 854), (960, 800), (640, 480), (1024, 600), (800, 480), (480, 272), (2560, 1600), (2304, 1440), (2048, 1280), (1920, 1200), (1680, 1050), (1440, 900), (1280, 800), (1152, 720), (2560, 1440), (1920, 1080), (1600, 900), (1366, 768), (1280, 720), (480, 800)]\n",
    "\n",
    "my_resolution = (2880, 1864)\n",
    "pick_resolution(test_set, my_resolution)"
   ]
  },
  {
   "cell_type": "code",
   "execution_count": 44,
   "metadata": {},
   "outputs": [
    {
     "data": {
      "text/plain": [
       "['animals',\n",
       " 'brown',\n",
       " 'etosha',\n",
       " 'green',\n",
       " 'landscape',\n",
       " 'lions',\n",
       " 'namibia',\n",
       " 'national',\n",
       " 'nature',\n",
       " 'photography']"
      ]
     },
     "execution_count": 44,
     "metadata": {},
     "output_type": "execute_result"
    }
   ],
   "source": [
    "import requests\n",
    "from lxml.html import fromstring\n",
    "\n",
    "def get_tags(id, description):\n",
    "    response = requests.get(f'https://interfacelift.com/wallpaper/details/{id}/{description}.html')\n",
    "    if response.status_code == 200:\n",
    "        content = response.content.decode('latin-1')\n",
    "\n",
    "    tree = fromstring(content)\n",
    "    tags = [x.text.split('\\xa0')[0] for x in tree.xpath('//*/div[@class=\"jeder\"]/div/p/a')]\n",
    "    return tags"
   ]
  },
  {
   "cell_type": "code",
   "execution_count": 17,
   "metadata": {},
   "outputs": [],
   "source": []
  }
 ],
 "metadata": {
  "kernelspec": {
   "display_name": "stupid-efficiencies",
   "language": "python",
   "name": "python3"
  },
  "language_info": {
   "codemirror_mode": {
    "name": "ipython",
    "version": 3
   },
   "file_extension": ".py",
   "mimetype": "text/x-python",
   "name": "python",
   "nbconvert_exporter": "python",
   "pygments_lexer": "ipython3",
   "version": "3.9.18"
  }
 },
 "nbformat": 4,
 "nbformat_minor": 2
}
